{
  "nbformat": 4,
  "nbformat_minor": 0,
  "metadata": {
    "colab": {
      "provenance": [],
      "gpuType": "T4"
    },
    "kernelspec": {
      "name": "python3",
      "display_name": "Python 3"
    },
    "language_info": {
      "name": "python"
    },
    "accelerator": "GPU"
  },
  "cells": [
    {
      "cell_type": "code",
      "execution_count": null,
      "metadata": {
        "id": "Z_-9E3w9tu6n"
      },
      "outputs": [],
      "source": [
        "pip install ultralytics opencv-python roboflow"
      ]
    },
    {
      "cell_type": "code",
      "source": [
        "from roboflow import Roboflow\n",
        "rf = Roboflow(api_key=\"423HnFzQipKd10KD0Hzu\")\n",
        "project = rf.workspace(\"diplome\").project(\"eggsdetect\")\n",
        "version = project.version(1)\n",
        "dataset = version.download(\"yolov11\")"
      ],
      "metadata": {
        "id": "SKoSGxigtz8K"
      },
      "execution_count": null,
      "outputs": []
    },
    {
      "cell_type": "code",
      "source": [
        "from ultralytics import YOLO\n",
        "\n",
        "model = YOLO(\"yolo11s.pt\")  # Lightweight and fast\n",
        "results = model.train(\n",
        "    data=f\"{dataset.location}/data.yaml\",\n",
        "    epochs=5,\n",
        "    imgsz=640,\n",
        "    batch=32,\n",
        "    device=\"cuda\",  # or \"cpu\" if GPU not available\n",
        "    name=\"egg_detector\",\n",
        "    amp=True\n",
        ")"
      ],
      "metadata": {
        "id": "xx22LGUVtz3f"
      },
      "execution_count": null,
      "outputs": []
    },
    {
      "cell_type": "code",
      "source": [
        "import cv2\n",
        "from ultralytics import YOLO\n",
        "import os\n",
        "\n",
        "# Allow duplicate OpenMP if needed\n",
        "os.environ[\"KMP_DUPLICATE_LIB_OK\"] = \"TRUE\"\n",
        "\n",
        "# Load model\n",
        "model = YOLO(\"/content/runs/detect/egg_detector2/weights/best.pt\")\n",
        "\n",
        "# Video input\n",
        "video_path = \"/content/20180910_144521.mp4\"\n",
        "cap = cv2.VideoCapture(video_path)\n",
        "\n",
        "# Read first frame for dimensions\n",
        "ret, frame = cap.read()\n",
        "if not ret:\n",
        "    raise Exception(\"Failed to open video.\")\n",
        "\n",
        "frame = cv2.rotate(frame, cv2.ROTATE_90_CLOCKWISE)\n",
        "height, width = frame.shape[:2]\n",
        "fps = cap.get(cv2.CAP_PROP_FPS) or 30\n",
        "\n",
        "# Output writer\n",
        "out = cv2.VideoWriter(\"output_egg_counter.mp4\", cv2.VideoWriter_fourcc(*\"mp4v\"), fps, (width, height))\n",
        "cap.set(cv2.CAP_PROP_POS_FRAMES, 0)\n",
        "\n",
        "line_y = int(height * 0.6)\n",
        "egg_count = 0\n",
        "counted_centers = []\n",
        "frame_number = 0\n",
        "\n",
        "while cap.isOpened():\n",
        "    ret, frame = cap.read()\n",
        "    if not ret:\n",
        "        break\n",
        "\n",
        "    frame = cv2.rotate(frame, cv2.ROTATE_90_CLOCKWISE)\n",
        "    results = model.predict(source=frame, conf=0.5, verbose=False)\n",
        "    boxes = results[0].boxes\n",
        "\n",
        "    for box in boxes:\n",
        "        x1, y1, x2, y2 = map(int, box.xyxy[0].tolist())\n",
        "        cx = int((x1 + x2) / 2)\n",
        "        cy = int((y1 + y2) / 2)\n",
        "\n",
        "        if line_y - 5 <= cy <= line_y + 5:\n",
        "            if cx not in counted_centers:\n",
        "                egg_count += 1\n",
        "                counted_centers.append(cx)\n",
        "\n",
        "        cv2.rectangle(frame, (x1, y1), (x2, y2), (0, 255, 0), 2)\n",
        "        cv2.circle(frame, (cx, cy), 5, (255, 0, 0), -1)\n",
        "\n",
        "    cv2.line(frame, (0, line_y), (width, line_y), (0, 0, 255), 2)\n",
        "    cv2.putText(frame, f\"Egg Count: {egg_count}\", (20, 40), cv2.FONT_HERSHEY_SIMPLEX, 1.2, (0, 255, 255), 2)\n",
        "\n",
        "    out.write(frame)\n",
        "    frame_number += 1\n",
        "\n",
        "cap.release()\n",
        "out.release()\n",
        "print(f\"Total eggs counted: {egg_count}\")"
      ],
      "metadata": {
        "id": "dzmbMyOYtz0A"
      },
      "execution_count": null,
      "outputs": []
    }
  ]
}